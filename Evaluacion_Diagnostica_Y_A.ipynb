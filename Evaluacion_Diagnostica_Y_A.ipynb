{
  "nbformat": 4,
  "nbformat_minor": 0,
  "metadata": {
    "colab": {
      "provenance": [],
      "authorship_tag": "ABX9TyNLyqGqtP/lYKAyHWhk0nFU",
      "include_colab_link": true
    },
    "kernelspec": {
      "name": "python3",
      "display_name": "Python 3"
    },
    "language_info": {
      "name": "python"
    }
  },
  "cells": [
    {
      "cell_type": "markdown",
      "metadata": {
        "id": "view-in-github",
        "colab_type": "text"
      },
      "source": [
        "<a href=\"https://colab.research.google.com/github/alu230357-sq/Codigos/blob/main/Evaluacion_Diagnostica_Y_A.ipynb\" target=\"_parent\"><img src=\"https://colab.research.google.com/assets/colab-badge.svg\" alt=\"Open In Colab\"/></a>"
      ]
    },
    {
      "cell_type": "code",
      "execution_count": null,
      "metadata": {
        "id": "EIbr91XO17zG"
      },
      "outputs": [],
      "source": [
        "1-Imprime nombre,paterno y materno del alumno"
      ]
    },
    {
      "cell_type": "code",
      "source": [
        "\n",
        "print (\"Yuri\")\n",
        "print (\"Alvarez\")\n",
        "print (\"Juarez\")\n"
      ],
      "metadata": {
        "colab": {
          "base_uri": "https://localhost:8080/"
        },
        "id": "Pi8WaWzL2EkS",
        "outputId": "1c00efdf-352f-4f3e-fbad-32b7cbd9b9d3"
      },
      "execution_count": 3,
      "outputs": [
        {
          "output_type": "stream",
          "name": "stdout",
          "text": [
            "Yuri\n",
            "Alvarez\n",
            "Juarez\n"
          ]
        }
      ]
    },
    {
      "cell_type": "markdown",
      "source": [
        "2- Capturar 2 números decimales e imprimir Suma"
      ],
      "metadata": {
        "id": "dbowC_Sd2pQ4"
      }
    },
    {
      "cell_type": "code",
      "source": [
        "n1 = float(input(\"Ingrese el primer numero\"))\n",
        "n2= float(input(\"Ingrese el segundo numero\"))\n",
        "print (\"Suma= \", n1 + n2)\n"
      ],
      "metadata": {
        "colab": {
          "base_uri": "https://localhost:8080/"
        },
        "id": "sIJoYW2-2u3A",
        "outputId": "301dad91-7e65-49c7-95b9-cfd2c59e21b8"
      },
      "execution_count": 4,
      "outputs": [
        {
          "output_type": "stream",
          "name": "stdout",
          "text": [
            "Ingrese el primer numero2.5\n",
            "Ingrese el segundo numero2.5\n",
            "Suma=  5.0\n"
          ]
        }
      ]
    },
    {
      "cell_type": "markdown",
      "source": [
        "3-Calcular el área de un círculo"
      ],
      "metadata": {
        "id": "MuxMbrUg38ue"
      }
    },
    {
      "cell_type": "code",
      "source": [
        "pi= 3.14\n",
        "r=float (input (\"Ingrese el valor del radio \"))\n",
        "a= pi * r * r\n",
        "print(\"El area de tu circulo es \",a)\n"
      ],
      "metadata": {
        "colab": {
          "base_uri": "https://localhost:8080/"
        },
        "id": "LTkgOaIV4CUm",
        "outputId": "2e445057-f557-4524-b700-55d933ed434c"
      },
      "execution_count": 5,
      "outputs": [
        {
          "output_type": "stream",
          "name": "stdout",
          "text": [
            "Ingrese el valor del radio 5\n",
            "El area de tu circulo es  78.5\n"
          ]
        }
      ]
    },
    {
      "cell_type": "markdown",
      "source": [
        "4- Ejemplo de código y ventana resultante de semestre pasado."
      ],
      "metadata": {
        "id": "va6N-27c4mp0"
      }
    },
    {
      "cell_type": "code",
      "source": [
        "celsius = float(input(\"Introduce los grados Celsius: \"))\n",
        "fahrenheit = (celsius * 9/5) + 32\n",
        "print(f\"{celsius} grados Celsius son {fahrenheit} grados Fahrenheit.\")"
      ],
      "metadata": {
        "colab": {
          "base_uri": "https://localhost:8080/"
        },
        "id": "Hy6-pMLf4x88",
        "outputId": "ba9f9aa2-7af0-421d-a6c1-2cb6610182ca"
      },
      "execution_count": 6,
      "outputs": [
        {
          "output_type": "stream",
          "name": "stdout",
          "text": [
            "Introduce los grados Celsius: 5\n",
            "5.0 grados Celsius son 41.0 grados Fahrenheit.\n"
          ]
        }
      ]
    }
  ]
}